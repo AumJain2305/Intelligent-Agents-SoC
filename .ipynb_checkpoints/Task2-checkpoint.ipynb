{
 "cells": [
  {
   "cell_type": "code",
   "execution_count": 0,
   "metadata": {
    "colab": {},
    "colab_type": "code",
    "collapsed": true,
    "id": "RBKlkSur7M1T"
   },
   "outputs": [],
   "source": [
    " %matplotlib inline\n",
    " import numpy as np\n",
    " import matplotlib.pyplot as plt\n",
    " from random import seed \n",
    " from random import randint\n",
    " import time"
   ]
  },
  {
   "cell_type": "code",
   "execution_count": 14,
   "metadata": {
    "colab": {
     "base_uri": "https://localhost:8080/",
     "height": 296
    },
    "colab_type": "code",
    "id": "xefP4cRD7c4h",
    "outputId": "341c0826-b501-4f11-bd25-d509316f26df"
   },
   "outputs": [
    {
     "name": "stdout",
     "output_type": "stream",
     "text": [
      "It takes  135  iterations to set all indices\n"
     ]
    },
    {
     "data": {
      "image/png": "[encoded data removed]",
      "text/plain": [
       "<Figure size 432x288 with 1 Axes>"
      ]
     },
     "metadata": {
      "tags": []
     },
     "output_type": "display_data"
    }
   ],
   "source": [
    "\n",
    "itt = [0];\n",
    "ans = []\n",
    "\n",
    "seed(time.time())\n",
    "\n",
    "\n",
    "Xiter = [0]\n",
    "itera = 0\n",
    "fc = 0\n",
    "Ynumone = [1]\n",
    "array = np.zeros(1000)\n",
    "array[randint(100, 999)] = 1\n",
    "\n",
    "\n",
    "while(True):\n",
    "  itera = itera + 1\n",
    "\n",
    "  for _ in range(1000):\n",
    "    if(array[_] == 1):\n",
    "      j = randint(0, 1)\n",
    "      array[(_ + j - (1-j) + 1000)%1000] = 1\n",
    "  \n",
    "  ind1 = randint(0, 999)\n",
    "  ind2 = randint(0, 999)\n",
    "  temp = array[ind1]\n",
    "  array[ind1] = array[ind2]\n",
    "  array[ind2] = temp\n",
    "\n",
    "    \n",
    "  count = 0\n",
    "  for _ in range(1000):\n",
    "    count += array[_]\n",
    "  \n",
    "  Xiter.append(itera)\n",
    "  Ynumone.append(count)\n",
    "\n",
    "  if count == 1000:\n",
    "    fc = itera\n",
    "    break\n",
    "\n"
   ]
  },
  {
   "cell_type": "code",
   "execution_count": 15,
   "metadata": {
    "colab": {
     "base_uri": "https://localhost:8080/",
     "height": 69
    },
    "colab_type": "code",
    "id": "5XZMKkPD-qUy",
    "outputId": "d1cf9910-ac58-42f4-ff21-f147d480906a"
   },
   "outputs": [
    {
     "name": "stdout",
     "output_type": "stream",
     "text": [
      "Initialized empty Git repository in /content/.git/\n",
      "git: 'config-global.user.email' is not a git command. See 'git --help'.\n",
      "git: 'config-global.user.name' is not a git command. See 'git --help'.\n"
     ]
    }
   ],
   "source": [
    "!git init\n",
    "!git config-global.user.email \"greettanay@gmail.com\"\n",
    "!git config-global.user.name \"tantheta01\""
   ]
  },
  {
   "cell_type": "code",
   "execution_count": 0,
   "metadata": {
    "colab": {},
    "colab_type": "code",
    "collapsed": true,
    "id": "bjW1LLOthK-1"
   },
   "outputs": [],
   "source": [
    "!git config --global user.email \"greettanay@gmail.com\"\n",
    "!git config --global user.name \"tantheta01\""
   ]
  },
  {
   "cell_type": "code",
   "execution_count": 18,
   "metadata": {
    "colab": {
     "base_uri": "https://localhost:8080/",
     "height": 54
    },
    "colab_type": "code",
    "id": "7fHV4wiChbzc",
    "outputId": "e68a15ab-8d6b-469c-c7f1-bb121b40a031"
   },
   "outputs": [
    {
     "name": "stdout",
     "output_type": "stream",
     "text": [
      "ERROR! Session/line number was not unique in database. History logging moved to new session 59\n"
     ]
    }
   ],
   "source": [
    "!git add -A"
   ]
  },
  {
   "cell_type": "code",
   "execution_count": 19,
   "metadata": {
    "colab": {
     "base_uri": "https://localhost:8080/",
     "height": 486
    },
    "colab_type": "code",
    "id": "oaKrZWaZh0hB",
    "outputId": "568aa266-e094-4b1f-86ad-8275a78861cf"
   },
   "outputs": [
    {
     "name": "stdout",
     "output_type": "stream",
     "text": [
      "[master (root-commit) ae92bf0] First commit\n",
      " 25 files changed, 50749 insertions(+)\n",
      " create mode 100644 .config/.last_opt_in_prompt.yaml\n",
      " create mode 100644 .config/.last_survey_prompt.yaml\n",
      " create mode 100644 .config/.last_update_check.json\n",
      " create mode 100644 .config/.metricsUUID\n",
      " create mode 100644 .config/active_config\n",
      " create mode 100644 .config/config_sentinel\n",
      " create mode 100644 .config/configurations/config_default\n",
      " create mode 100644 .config/gce\n",
      " create mode 100644 .config/logs/2020.03.18/16.22.49.549509.log\n",
      " create mode 100644 .config/logs/2020.03.18/16.23.07.675926.log\n",
      " create mode 100644 .config/logs/2020.03.18/16.23.21.045077.log\n",
      " create mode 100644 .config/logs/2020.03.18/16.23.25.669907.log\n",
      " create mode 100644 .config/logs/2020.03.18/16.23.40.023637.log\n",
      " create mode 100644 .config/logs/2020.03.18/16.23.40.510901.log\n",
      " create mode 100644 Tanay-iter1.png\n",
      " create mode 100644 Tanay-iter2.png\n",
      " create mode 100644 Tanay-iter3.png\n",
      " create mode 100644 Tanay-iter4.png\n",
      " create mode 100644 Tanay-iter5.png\n",
      " create mode 100755 sample_data/README.md\n",
      " create mode 100755 sample_data/anscombe.json\n",
      " create mode 100644 sample_data/california_housing_test.csv\n",
      " create mode 100644 sample_data/california_housing_train.csv\n",
      " create mode 100644 sample_data/mnist_test.csv\n",
      " create mode 100644 sample_data/mnist_train_small.csv\n"
     ]
    }
   ],
   "source": [
    "!git commit -m \"First commit\""
   ]
  },
  {
   "cell_type": "code",
   "execution_count": 0,
   "metadata": {
    "colab": {},
    "colab_type": "code",
    "collapsed": true,
    "id": "78uuUZM6iz0q"
   },
   "outputs": [],
   "source": [
    "!git remote add origin git@github.com:tantheta01/Intelligent-Agents-SoC.git"
   ]
  },
  {
   "cell_type": "code",
   "execution_count": 28,
   "metadata": {
    "colab": {
     "base_uri": "https://localhost:8080/",
     "height": 104
    },
    "colab_type": "code",
    "id": "GvKN2fF9jkq0",
    "outputId": "01e2949f-9df9-4cbc-eb3b-165c305c1a73"
   },
   "outputs": [
    {
     "name": "stdout",
     "output_type": "stream",
     "text": [
      "Host key verification failed.\r\n",
      "fatal: Could not read from remote repository.\n",
      "\n",
      "Please make sure you have the correct access rights\n",
      "and the repository exists.\n"
     ]
    }
   ],
   "source": [
    "!git push -u origin master"
   ]
  },
  {
   "cell_type": "code",
   "execution_count": 0,
   "metadata": {
    "colab": {},
    "colab_type": "code",
    "collapsed": true,
    "id": "chqEn-uyjr00"
   },
   "outputs": [],
   "source": [
    "!git remote rm origin"
   ]
  },
  {
   "cell_type": "code",
   "execution_count": 0,
   "metadata": {
    "colab": {},
    "colab_type": "code",
    "collapsed": true,
    "id": "LZQ5FvlXkpao"
   },
   "outputs": [],
   "source": []
  }
 ],
 "metadata": {
  "colab": {
   "name": "Task2.ipynb",
   "provenance": []
  },
  "kernelspec": {
   "display_name": "Python 3",
   "language": "python",
   "name": "python3"
  },
  "language_info": {
   "codemirror_mode": {
    "name": "ipython",
    "version": 3
   },
   "file_extension": ".py",
   "mimetype": "text/x-python",
   "name": "python",
   "nbconvert_exporter": "python",
   "pygments_lexer": "ipython3",
   "version": "3.6.3"
  }
 },
 "nbformat": 4,
 "nbformat_minor": 1
}
